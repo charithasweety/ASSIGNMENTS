{
 "cells": [
  {
   "cell_type": "code",
   "execution_count": 1,
   "id": "06a78851",
   "metadata": {},
   "outputs": [
    {
     "name": "stdout",
     "output_type": "stream",
     "text": [
      "Total Reward: 922\n",
      "Estimated Action Values: [0.86842105 0.99538462 0.14285714 0.3        0.80952381]\n",
      "Action Counts: [190. 650.  14.  20. 126.]\n"
     ]
    }
   ],
   "source": [
    "import numpy as np\n",
    "\n",
    "# Simulating the game environment\n",
    "class GameEnvironment:\n",
    "    def __init__(self, n_actions):\n",
    "        self.n_actions = n_actions\n",
    "        self.probabilities = np.random.rand(n_actions)  # Hidden reward probabilities\n",
    "\n",
    "    def play(self, action):\n",
    "        return 1 if np.random.rand() < self.probabilities[action] else 0\n",
    "\n",
    "\n",
    "# UCB Algorithm\n",
    "class UCB:\n",
    "    def __init__(self, n_actions):\n",
    "        self.n_actions = n_actions\n",
    "        self.counts = np.zeros(n_actions)  # Number of times each action is chosen\n",
    "        self.values = np.zeros(n_actions)  # Average reward for each action\n",
    "\n",
    "    def select_action(self, t):\n",
    "        if t < self.n_actions:\n",
    "            return t  # Ensure each action is tried at least once\n",
    "        ucb_values = self.values + np.sqrt((2 * np.log(t)) / (self.counts + 1e-5))\n",
    "        return np.argmax(ucb_values)\n",
    "\n",
    "    def update(self, action, reward):\n",
    "        self.counts[action] += 1\n",
    "        self.values[action] += (reward - self.values[action]) / self.counts[action]\n",
    "\n",
    "\n",
    "# Simulation\n",
    "def simulate_game(n_actions, n_rounds):\n",
    "    game = GameEnvironment(n_actions)\n",
    "    ucb = UCB(n_actions)\n",
    "    total_reward = 0\n",
    "\n",
    "    for t in range(n_rounds):\n",
    "        action = ucb.select_action(t)\n",
    "        reward = game.play(action)\n",
    "        ucb.update(action, reward)\n",
    "        total_reward += reward\n",
    "\n",
    "    print(f\"Total Reward: {total_reward}\")\n",
    "    print(f\"Estimated Action Values: {ucb.values}\")\n",
    "    print(f\"Action Counts: {ucb.counts}\")\n",
    "\n",
    "simulate_game(n_actions=5, n_rounds=1000)\n"
   ]
  },
  {
   "cell_type": "code",
   "execution_count": 2,
   "id": "9565c85d",
   "metadata": {},
   "outputs": [
    {
     "name": "stdout",
     "output_type": "stream",
     "text": [
      "Estimated Device Efficiencies: [0.42292961 0.76777358 0.1821578 ]\n",
      "Device Usage Counts: [ 47. 431.  22.]\n"
     ]
    }
   ],
   "source": [
    "import numpy as np\n",
    "class IoTEnvironment:\n",
    "    def __init__(self, n_devices):\n",
    "        self.n_devices = n_devices\n",
    "        self.efficiency = np.random.rand(n_devices)  # Varying efficiency of devices\n",
    "\n",
    "    def use_device(self, device):\n",
    "        return self.efficiency[device] + np.random.normal(0, 0.1)  # Add randomness\n",
    "class IoTUCB:\n",
    "    def __init__(self, n_devices):\n",
    "        self.n_devices = n_devices\n",
    "        self.counts = np.zeros(n_devices)  # Number of times each device is chosen\n",
    "        self.values = np.zeros(n_devices)  # Average efficiency of each device\n",
    "\n",
    "    def select_device(self, t):\n",
    "        if t < self.n_devices:\n",
    "            return t  # Ensure each device is tried at least once\n",
    "        ucb_values = self.values + np.sqrt((2 * np.log(t)) / (self.counts + 1e-5))\n",
    "        return np.argmax(ucb_values)\n",
    "\n",
    "    def update(self, device, reward):\n",
    "        self.counts[device] += 1\n",
    "        self.values[device] += (reward - self.values[device]) / self.counts[device]\n",
    "\n",
    "\n",
    "# Simulation\n",
    "def optimize_energy(n_devices, n_iterations):\n",
    "    environment = IoTEnvironment(n_devices)\n",
    "    ucb = IoTUCB(n_devices)\n",
    "\n",
    "    for t in range(n_iterations):\n",
    "        device = ucb.select_device(t)\n",
    "        efficiency = environment.use_device(device)\n",
    "        ucb.update(device, efficiency)\n",
    "\n",
    "    print(f\"Estimated Device Efficiencies: {ucb.values}\")\n",
    "    print(f\"Device Usage Counts: {ucb.counts}\")\n",
    "\n",
    "optimize_energy(n_devices=3, n_iterations=500)\n"
   ]
  },
  {
   "cell_type": "code",
   "execution_count": 3,
   "id": "b3b739da",
   "metadata": {},
   "outputs": [
    {
     "name": "stdout",
     "output_type": "stream",
     "text": [
      "Model Accuracy: 0.23\n",
      "Test Board:\n",
      "[[1 0 0 0]\n",
      " [0 0 0 2]\n",
      " [1 1 1 1]\n",
      " [0 0 0 0]]\n",
      "Predicted Move: move_down\n"
     ]
    }
   ],
   "source": [
    "import numpy as np\n",
    "from sklearn.tree import DecisionTreeClassifier\n",
    "from sklearn.model_selection import train_test_split\n",
    "from sklearn.metrics import accuracy_score\n",
    "\n",
    "# Generating simplified board states\n",
    "def generate_board_states(n_samples):\n",
    "    X = []\n",
    "    y = []\n",
    "    for _ in range(n_samples):\n",
    "        board = np.random.choice([0, 1], size=(4, 4))  # 0: empty, 1: pawn\n",
    "        king_position = (np.random.randint(4), np.random.randint(4))\n",
    "        board[king_position] = 2  # 2: king\n",
    "        X.append(board.flatten())  # Flatten board state\n",
    "        y.append(np.random.choice([\"move_left\", \"move_right\", \"move_up\", \"move_down\"]))  # Random optimal move\n",
    "    return np.array(X), np.array(y)\n",
    "\n",
    "# Generate dataset\n",
    "X, y = generate_board_states(1000)\n",
    "\n",
    "# Split data into training and testing sets\n",
    "X_train, X_test, y_train, y_test = train_test_split(X, y, test_size=0.2, random_state=42)\n",
    "\n",
    "# Train a decision tree classifier\n",
    "clf = DecisionTreeClassifier(max_depth=5)\n",
    "clf.fit(X_train, y_train)\n",
    "\n",
    "# Evaluate the model\n",
    "y_pred = clf.predict(X_test)\n",
    "accuracy = accuracy_score(y_test, y_pred)\n",
    "print(f\"Model Accuracy: {accuracy:.2f}\")\n",
    "\n",
    "# Test on a new board state\n",
    "test_board = np.random.choice([0, 1], size=(4, 4))\n",
    "king_position = (np.random.randint(4), np.random.randint(4))\n",
    "test_board[king_position] = 2\n",
    "print(\"Test Board:\")\n",
    "print(test_board)\n",
    "\n",
    "prediction = clf.predict([test_board.flatten()])\n",
    "print(f\"Predicted Move: {prediction[0]}\")\n"
   ]
  },
  {
   "cell_type": "code",
   "execution_count": null,
   "id": "7e677b58",
   "metadata": {},
   "outputs": [],
   "source": []
  },
  {
   "cell_type": "code",
   "execution_count": null,
   "id": "0d8676a0",
   "metadata": {},
   "outputs": [],
   "source": []
  },
  {
   "cell_type": "code",
   "execution_count": null,
   "id": "d2122f56",
   "metadata": {},
   "outputs": [],
   "source": []
  },
  {
   "cell_type": "code",
   "execution_count": null,
   "id": "6b12558b",
   "metadata": {},
   "outputs": [],
   "source": []
  }
 ],
 "metadata": {
  "kernelspec": {
   "display_name": "Python 3 (ipykernel)",
   "language": "python",
   "name": "python3"
  },
  "language_info": {
   "codemirror_mode": {
    "name": "ipython",
    "version": 3
   },
   "file_extension": ".py",
   "mimetype": "text/x-python",
   "name": "python",
   "nbconvert_exporter": "python",
   "pygments_lexer": "ipython3",
   "version": "3.9.13"
  }
 },
 "nbformat": 4,
 "nbformat_minor": 5
}
